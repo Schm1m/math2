{
 "cells": [
  {
   "cell_type": "code",
   "execution_count": 8,
   "metadata": {},
   "outputs": [],
   "source": [
    "import numpy as np\n",
    "import matplotlib as plt"
   ]
  },
  {
   "cell_type": "code",
   "execution_count": null,
   "metadata": {},
   "outputs": [],
   "source": [
    "x_min, x_max, y_min, y_max = 0, 6, -1, 2\n",
    "fig, ax = plt.subplots(figsize=((x_max-x_min),(y_max-y_min)))\n",
    "ax.set_aspect('equal')\n",
    "ax.axis([x_min ,x_max, y_min, y_max])\n",
    "x_ticks = np.arange(x_min,x_max+1,2)\n",
    "y_ticks = np.arange(y_min,y_max+1,2)\n",
    "ax.set_xticks(np.arange(x_min,x_max+1),minor=True)\n",
    "ax.set_yticks(np.arange(y_min,y_max+1),minor=True)\n",
    "ax.grid(which='both')\n",
    "ax.grid(which='minor', alpha=0.2)\n",
    "ax.grid(which='major', alpha=0.5)"
   ]
  },
  {
   "cell_type": "code",
   "execution_count": 9,
   "metadata": {},
   "outputs": [],
   "source": [
    "x = np.array([1,2,3,4,5])\n",
    "y = np.array([0,0,1,0,0])\n",
    "\n",
    "BT = np.array([np.power(x,0), np.power(x,1), np.power(x,2), np.power(x,3), np.power(x,4)])\n",
    "\n",
    "B = BT.transpose()\n",
    "\n",
    "b = np.linalg.solve(B,y)\n",
    "\n",
    "space = np.linspace(0,6,100)\n",
    "BODY_X = np.array(space)\n",
    "BODY_Y = np.array(b[0]*np.power(space, 0)+b[1]*np.power(space, 1)+b[2]*np.power(space, 2)+b[3]*np.power(space, 3)+b[4]*np.power(space, 4))\n",
    "\n",
    "plt.plot()"
   ]
  },
  {
   "cell_type": "code",
   "execution_count": null,
   "metadata": {},
   "outputs": [],
   "source": []
  }
 ],
 "metadata": {
  "kernelspec": {
   "display_name": ".venv",
   "language": "python",
   "name": "python3"
  },
  "language_info": {
   "codemirror_mode": {
    "name": "ipython",
    "version": 3
   },
   "file_extension": ".py",
   "mimetype": "text/x-python",
   "name": "python",
   "nbconvert_exporter": "python",
   "pygments_lexer": "ipython3",
   "version": "3.10.12"
  }
 },
 "nbformat": 4,
 "nbformat_minor": 2
}
